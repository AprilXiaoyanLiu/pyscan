{
 "cells": [
  {
   "cell_type": "markdown",
   "metadata": {},
   "source": [
    "## Region Scanning Part 2\n",
    "Before we subsampled a set of regions and then scanned the sampled data set to find a region of interest. In some cases we might want to scan a set of regions, but with the constraint that some amount of overlap on a range causes the region to be considered inside of that range. We can encode these constraints into the range scanning, but we have to reduce to a point set using a different procedure then before."
   ]
  },
  {
   "cell_type": "code",
   "execution_count": null,
   "metadata": {},
   "outputs": [],
   "source": [
    "import shapefile\n",
    "import pyscan\n",
    "import matplotlib.pyplot as plt\n",
    "import csv\n",
    "\n",
    "def plot_points(ax, pts, c):\n",
    "    xs = []\n",
    "    ys = []\n",
    "    for pt in pts:\n",
    "        xs.append(pt[0] )\n",
    "        ys.append(pt[1])\n",
    "    ax.scatter(xs, ys, color=c, marker='.')\n",
    "\n",
    "def plot_points_traj(ax, pts, c):\n",
    "    xs = []\n",
    "    ys = []\n",
    "    for pt in pts:\n",
    "        xs.append(pt[0])\n",
    "        ys.append(pt[1])\n",
    "    ax.plot(xs, ys, color=c)\n",
    "    \n",
    "def plot_approx(ax, regions, core_set_pts):\n",
    "    for reg in regions:\n",
    "        plot_points_traj(ax, reg, \"g\")\n",
    "    plot_points(ax, core_set_pts, \"b\")\n",
    "    ax.set_axis_off()\n",
    "\n",
    "\n",
    "shape = shapefile.Reader(\"county_shapes/cb_2017_us_county_500k.shp\")\n",
    "population2017 = {}\n",
    "population2010 = {}\n",
    "\n",
    "with open(\"county_population/PEP_2017_PEPANNRES_with_ann.csv\", encoding='latin-1') as f:\n",
    "    reader = csv.DictReader(f)\n",
    "    headers = next(reader, None)\n",
    "    for row in reader:\n",
    "        population2017[row['GEO.id2'][-3:]] = int(row['respop72017'])\n",
    "        population2010[row['GEO.id2'][-3:]] = int(row['respop72010'])\n",
    "        \n",
    "regions = []\n",
    "weights2017 = []\n",
    "weights2010 = []\n",
    "for reg in shape.shapeRecords():\n",
    "    ignore = False\n",
    "    for p in reg.shape.points:\n",
    "        # remove counties outside of the continental US\n",
    "        if not (-124.84 <= p[0] <= -66.9 and 24.396 <= p[1] <= 49.4):\n",
    "            ignore = True\n",
    "            break\n",
    "    if not ignore:\n",
    "        weights2010.append(population2010[reg.record[1]]) #reg.record[2], reg.record[5])\n",
    "        weights2017.append(population2017[reg.record[1]]) #reg.record[2], reg.record[5])\n",
    "        regions.append([pyscan.Point(p[0], p[1], 1.0) for p in reg.shape.points])\n",
    "        "
   ]
  },
  {
   "cell_type": "markdown",
   "metadata": {},
   "source": [
    "Now we use the region simplification code from the region simplification page."
   ]
  },
  {
   "cell_type": "code",
   "execution_count": null,
   "metadata": {},
   "outputs": [],
   "source": [
    "i = 0\n",
    "for reg in regions:\n",
    "    core_set_pts = pyscan.polygon_grid_even(reg, r_min * 2, alpha)\n",
    "    # Convert these to labeled points.\n",
    "    []"
   ]
  }
 ],
 "metadata": {
  "kernelspec": {
   "display_name": "Python 3",
   "language": "python",
   "name": "python3"
  },
  "language_info": {
   "codemirror_mode": {
    "name": "ipython",
    "version": 3
   },
   "file_extension": ".py",
   "mimetype": "text/x-python",
   "name": "python",
   "nbconvert_exporter": "python",
   "pygments_lexer": "ipython3",
   "version": "3.6.7"
  }
 },
 "nbformat": 4,
 "nbformat_minor": 2
}
